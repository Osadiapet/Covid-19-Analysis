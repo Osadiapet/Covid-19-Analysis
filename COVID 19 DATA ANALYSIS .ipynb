{
 "cells": [
  {
   "cell_type": "markdown",
   "metadata": {},
   "source": [
    "### Exploratory Data Analysis on Covid-19"
   ]
  },
  {
   "cell_type": "markdown",
   "metadata": {},
   "source": [
    "**Introduction:**\n",
    "The COVID-19 pandemic has affected millions of people worldwide and has been a major public health concern since its outbreak. In this project, we aim to analyze the COVID-19 dataset provided by WHO to gain insights into the spread of the disease across different regions and countries. The dataset contains information on the number of confirmed cases, deaths, and recoveries, as well as the date and country/region of reporting.\n",
    "\n",
    "**Methodology:**\n",
    "We followed the CRISP-DM (Cross Industry Standard Process for Data Mining) framework, which involves the following steps: Business Understanding, Data Understanding, Data Preparation, Modeling, Evaluation, and Deployment. Our focus in this project was on the Data Understanding, Data Preparation, and Modeling phases.\n",
    "\n",
    "**Data Understanding:**\n",
    "We started by exploring the dataset to gain an understanding of its contents and structure. This involved performing univariate and bivariate analysis to examine the distributions and relationships of the variables. We also conducted exploratory data analysis (EDA) to identify trends and patterns in the data.\n",
    "\n",
    "**Data Preparation:**\n",
    "After understanding the data, we cleaned and prepared it for analysis. We also transformed and normalized the data as needed to prepare it for modeling.\n",
    "\n",
    "**Modeling:**\n",
    "We used statistical analysis techniques such as ANOVA and Tukey HSD to identify the relationship between the continent and the number of confirmed cases. We also performed other analysis to gain insights into the data and its patterns.\n",
    "\n",
    "**Results:**\n",
    "Our analysis revealed significant differences in the number of confirmed cases across different continents. Specifically, we found that the number of confirmed cases was highest in Europe and the Americas. These findings provide valuable insights into the spread of COVID-19 and can help inform public health policies and interventions. Further analysis using Tukey HSD test showed that there were statistically significant differences in the number of confirmed cases between certain pairs of continents, but not for others. Specifically, the pairs of Africa and Western Pacific, Eastern Mediterranean and South-East Asia, Eastern Mediterranean and Americas, and Americas and South-East Asia did not show statistically significant differences. These findings suggest that the continent may play a role in the spread and transmission of COVID-19.\n",
    "\n",
    "**Conclusion:**\n",
    "In conclusion, our project demonstrates the value of data science in providing insights into complex problems such as the COVID-19 pandemic. By following the CRISP-DM framework and performing rigorous analysis, we were able to identify important patterns and relationships in the data. Our results have practical implications for public health practitioners and policymakers working to control the spread of the disease.\n",
    "\n",
    "\n",
    "\n",
    "\n"
   ]
  },
  {
   "cell_type": "markdown",
   "metadata": {},
   "source": [
    "#### Importing Libraries"
   ]
  },
  {
   "cell_type": "code",
   "execution_count": 1,
   "metadata": {},
   "outputs": [],
   "source": [
    "#importing libaraies \n",
    "import pandas as pd\n",
    "import numpy as np\n",
    "import seaborn as sns\n",
    "import matplotlib.pyplot as plt\n",
    "import warnings \n",
    "warnings.filterwarnings('ignore')\n",
    "%matplotlib inline"
   ]
  },
  {
   "cell_type": "code",
   "execution_count": null,
   "metadata": {},
   "outputs": [],
   "source": []
  },
  {
   "cell_type": "code",
   "execution_count": 3,
   "metadata": {},
   "outputs": [
    {
     "data": {
      "text/html": [
       "<div>\n",
       "<style scoped>\n",
       "    .dataframe tbody tr th:only-of-type {\n",
       "        vertical-align: middle;\n",
       "    }\n",
       "\n",
       "    .dataframe tbody tr th {\n",
       "        vertical-align: top;\n",
       "    }\n",
       "\n",
       "    .dataframe thead th {\n",
       "        text-align: right;\n",
       "    }\n",
       "</style>\n",
       "<table border=\"1\" class=\"dataframe\">\n",
       "  <thead>\n",
       "    <tr style=\"text-align: right;\">\n",
       "      <th></th>\n",
       "      <th>Province/State</th>\n",
       "      <th>Country/Region</th>\n",
       "      <th>Lat</th>\n",
       "      <th>Long</th>\n",
       "      <th>Date</th>\n",
       "      <th>Confirmed</th>\n",
       "      <th>Deaths</th>\n",
       "      <th>Recovered</th>\n",
       "      <th>Active</th>\n",
       "      <th>WHO Region</th>\n",
       "    </tr>\n",
       "  </thead>\n",
       "  <tbody>\n",
       "    <tr>\n",
       "      <th>0</th>\n",
       "      <td>NaN</td>\n",
       "      <td>Afghanistan</td>\n",
       "      <td>33.93911</td>\n",
       "      <td>67.709953</td>\n",
       "      <td>1/22/2020</td>\n",
       "      <td>0</td>\n",
       "      <td>0</td>\n",
       "      <td>0</td>\n",
       "      <td>0</td>\n",
       "      <td>Eastern Mediterranean</td>\n",
       "    </tr>\n",
       "    <tr>\n",
       "      <th>1</th>\n",
       "      <td>NaN</td>\n",
       "      <td>Albania</td>\n",
       "      <td>41.15330</td>\n",
       "      <td>20.168300</td>\n",
       "      <td>1/22/2020</td>\n",
       "      <td>0</td>\n",
       "      <td>0</td>\n",
       "      <td>0</td>\n",
       "      <td>0</td>\n",
       "      <td>Europe</td>\n",
       "    </tr>\n",
       "    <tr>\n",
       "      <th>2</th>\n",
       "      <td>NaN</td>\n",
       "      <td>Algeria</td>\n",
       "      <td>28.03390</td>\n",
       "      <td>1.659600</td>\n",
       "      <td>1/22/2020</td>\n",
       "      <td>0</td>\n",
       "      <td>0</td>\n",
       "      <td>0</td>\n",
       "      <td>0</td>\n",
       "      <td>Africa</td>\n",
       "    </tr>\n",
       "    <tr>\n",
       "      <th>3</th>\n",
       "      <td>NaN</td>\n",
       "      <td>Andorra</td>\n",
       "      <td>42.50630</td>\n",
       "      <td>1.521800</td>\n",
       "      <td>1/22/2020</td>\n",
       "      <td>0</td>\n",
       "      <td>0</td>\n",
       "      <td>0</td>\n",
       "      <td>0</td>\n",
       "      <td>Europe</td>\n",
       "    </tr>\n",
       "    <tr>\n",
       "      <th>4</th>\n",
       "      <td>NaN</td>\n",
       "      <td>Angola</td>\n",
       "      <td>-11.20270</td>\n",
       "      <td>17.873900</td>\n",
       "      <td>1/22/2020</td>\n",
       "      <td>0</td>\n",
       "      <td>0</td>\n",
       "      <td>0</td>\n",
       "      <td>0</td>\n",
       "      <td>Africa</td>\n",
       "    </tr>\n",
       "  </tbody>\n",
       "</table>\n",
       "</div>"
      ],
      "text/plain": [
       "  Province/State Country/Region       Lat       Long       Date  Confirmed  \\\n",
       "0            NaN    Afghanistan  33.93911  67.709953  1/22/2020          0   \n",
       "1            NaN        Albania  41.15330  20.168300  1/22/2020          0   \n",
       "2            NaN        Algeria  28.03390   1.659600  1/22/2020          0   \n",
       "3            NaN        Andorra  42.50630   1.521800  1/22/2020          0   \n",
       "4            NaN         Angola -11.20270  17.873900  1/22/2020          0   \n",
       "\n",
       "   Deaths  Recovered  Active             WHO Region  \n",
       "0       0          0       0  Eastern Mediterranean  \n",
       "1       0          0       0                 Europe  \n",
       "2       0          0       0                 Africa  \n",
       "3       0          0       0                 Europe  \n",
       "4       0          0       0                 Africa  "
      ]
     },
     "execution_count": 3,
     "metadata": {},
     "output_type": "execute_result"
    }
   ],
   "source": [
    "#top 5 rows of the data\n",
    "covid_data.head()"
   ]
  },
  {
   "cell_type": "markdown",
   "metadata": {},
   "source": [
    "### Exploratory Data Analysis"
   ]
  },
  {
   "cell_type": "code",
   "execution_count": 4,
   "metadata": {},
   "outputs": [
    {
     "name": "stdout",
     "output_type": "stream",
     "text": [
      "<class 'pandas.core.frame.DataFrame'>\n",
      "RangeIndex: 49068 entries, 0 to 49067\n",
      "Data columns (total 10 columns):\n",
      " #   Column          Non-Null Count  Dtype  \n",
      "---  ------          --------------  -----  \n",
      " 0   Province/State  14664 non-null  object \n",
      " 1   Country/Region  49068 non-null  object \n",
      " 2   Lat             49068 non-null  float64\n",
      " 3   Long            49068 non-null  float64\n",
      " 4   Date            49068 non-null  object \n",
      " 5   Confirmed       49068 non-null  int64  \n",
      " 6   Deaths          49068 non-null  int64  \n",
      " 7   Recovered       49068 non-null  int64  \n",
      " 8   Active          49068 non-null  int64  \n",
      " 9   WHO Region      49068 non-null  object \n",
      "dtypes: float64(2), int64(4), object(4)\n",
      "memory usage: 3.7+ MB\n"
     ]
    }
   ],
   "source": [
    "#concise summary of the data \n",
    "covid_data.info()"
   ]
  },
  {
   "cell_type": "code",
   "execution_count": 5,
   "metadata": {},
   "outputs": [
    {
     "data": {
      "text/html": [
       "<div>\n",
       "<style scoped>\n",
       "    .dataframe tbody tr th:only-of-type {\n",
       "        vertical-align: middle;\n",
       "    }\n",
       "\n",
       "    .dataframe tbody tr th {\n",
       "        vertical-align: top;\n",
       "    }\n",
       "\n",
       "    .dataframe thead th {\n",
       "        text-align: right;\n",
       "    }\n",
       "</style>\n",
       "<table border=\"1\" class=\"dataframe\">\n",
       "  <thead>\n",
       "    <tr style=\"text-align: right;\">\n",
       "      <th></th>\n",
       "      <th>Lat</th>\n",
       "      <th>Long</th>\n",
       "      <th>Confirmed</th>\n",
       "      <th>Deaths</th>\n",
       "      <th>Recovered</th>\n",
       "      <th>Active</th>\n",
       "    </tr>\n",
       "  </thead>\n",
       "  <tbody>\n",
       "    <tr>\n",
       "      <th>count</th>\n",
       "      <td>49068.000000</td>\n",
       "      <td>49068.000000</td>\n",
       "      <td>4.906800e+04</td>\n",
       "      <td>49068.000000</td>\n",
       "      <td>4.906800e+04</td>\n",
       "      <td>4.906800e+04</td>\n",
       "    </tr>\n",
       "    <tr>\n",
       "      <th>mean</th>\n",
       "      <td>21.433730</td>\n",
       "      <td>23.528236</td>\n",
       "      <td>1.688490e+04</td>\n",
       "      <td>884.179160</td>\n",
       "      <td>7.915713e+03</td>\n",
       "      <td>8.085012e+03</td>\n",
       "    </tr>\n",
       "    <tr>\n",
       "      <th>std</th>\n",
       "      <td>24.950320</td>\n",
       "      <td>70.442740</td>\n",
       "      <td>1.273002e+05</td>\n",
       "      <td>6313.584411</td>\n",
       "      <td>5.480092e+04</td>\n",
       "      <td>7.625890e+04</td>\n",
       "    </tr>\n",
       "    <tr>\n",
       "      <th>min</th>\n",
       "      <td>-51.796300</td>\n",
       "      <td>-135.000000</td>\n",
       "      <td>0.000000e+00</td>\n",
       "      <td>0.000000</td>\n",
       "      <td>0.000000e+00</td>\n",
       "      <td>-1.400000e+01</td>\n",
       "    </tr>\n",
       "    <tr>\n",
       "      <th>25%</th>\n",
       "      <td>7.873054</td>\n",
       "      <td>-15.310100</td>\n",
       "      <td>4.000000e+00</td>\n",
       "      <td>0.000000</td>\n",
       "      <td>0.000000e+00</td>\n",
       "      <td>0.000000e+00</td>\n",
       "    </tr>\n",
       "    <tr>\n",
       "      <th>50%</th>\n",
       "      <td>23.634500</td>\n",
       "      <td>21.745300</td>\n",
       "      <td>1.680000e+02</td>\n",
       "      <td>2.000000</td>\n",
       "      <td>2.900000e+01</td>\n",
       "      <td>2.600000e+01</td>\n",
       "    </tr>\n",
       "    <tr>\n",
       "      <th>75%</th>\n",
       "      <td>41.204380</td>\n",
       "      <td>80.771797</td>\n",
       "      <td>1.518250e+03</td>\n",
       "      <td>30.000000</td>\n",
       "      <td>6.660000e+02</td>\n",
       "      <td>6.060000e+02</td>\n",
       "    </tr>\n",
       "    <tr>\n",
       "      <th>max</th>\n",
       "      <td>71.706900</td>\n",
       "      <td>178.065000</td>\n",
       "      <td>4.290259e+06</td>\n",
       "      <td>148011.000000</td>\n",
       "      <td>1.846641e+06</td>\n",
       "      <td>2.816444e+06</td>\n",
       "    </tr>\n",
       "  </tbody>\n",
       "</table>\n",
       "</div>"
      ],
      "text/plain": [
       "                Lat          Long     Confirmed         Deaths     Recovered  \\\n",
       "count  49068.000000  49068.000000  4.906800e+04   49068.000000  4.906800e+04   \n",
       "mean      21.433730     23.528236  1.688490e+04     884.179160  7.915713e+03   \n",
       "std       24.950320     70.442740  1.273002e+05    6313.584411  5.480092e+04   \n",
       "min      -51.796300   -135.000000  0.000000e+00       0.000000  0.000000e+00   \n",
       "25%        7.873054    -15.310100  4.000000e+00       0.000000  0.000000e+00   \n",
       "50%       23.634500     21.745300  1.680000e+02       2.000000  2.900000e+01   \n",
       "75%       41.204380     80.771797  1.518250e+03      30.000000  6.660000e+02   \n",
       "max       71.706900    178.065000  4.290259e+06  148011.000000  1.846641e+06   \n",
       "\n",
       "             Active  \n",
       "count  4.906800e+04  \n",
       "mean   8.085012e+03  \n",
       "std    7.625890e+04  \n",
       "min   -1.400000e+01  \n",
       "25%    0.000000e+00  \n",
       "50%    2.600000e+01  \n",
       "75%    6.060000e+02  \n",
       "max    2.816444e+06  "
      ]
     },
     "execution_count": 5,
     "metadata": {},
     "output_type": "execute_result"
    }
   ],
   "source": [
    "#descriptive statistics of the numerical variables \n",
    "covid_data.describe()"
   ]
  },
  {
   "cell_type": "code",
   "execution_count": 6,
   "metadata": {},
   "outputs": [
    {
     "data": {
      "text/html": [
       "<div>\n",
       "<style scoped>\n",
       "    .dataframe tbody tr th:only-of-type {\n",
       "        vertical-align: middle;\n",
       "    }\n",
       "\n",
       "    .dataframe tbody tr th {\n",
       "        vertical-align: top;\n",
       "    }\n",
       "\n",
       "    .dataframe thead th {\n",
       "        text-align: right;\n",
       "    }\n",
       "</style>\n",
       "<table border=\"1\" class=\"dataframe\">\n",
       "  <thead>\n",
       "    <tr style=\"text-align: right;\">\n",
       "      <th></th>\n",
       "      <th>Province/State</th>\n",
       "      <th>Country/Region</th>\n",
       "      <th>Date</th>\n",
       "      <th>WHO Region</th>\n",
       "    </tr>\n",
       "  </thead>\n",
       "  <tbody>\n",
       "    <tr>\n",
       "      <th>count</th>\n",
       "      <td>14664</td>\n",
       "      <td>49068</td>\n",
       "      <td>49068</td>\n",
       "      <td>49068</td>\n",
       "    </tr>\n",
       "    <tr>\n",
       "      <th>unique</th>\n",
       "      <td>78</td>\n",
       "      <td>187</td>\n",
       "      <td>188</td>\n",
       "      <td>6</td>\n",
       "    </tr>\n",
       "    <tr>\n",
       "      <th>top</th>\n",
       "      <td>Australian Capital Territory</td>\n",
       "      <td>China</td>\n",
       "      <td>1/22/2020</td>\n",
       "      <td>Europe</td>\n",
       "    </tr>\n",
       "    <tr>\n",
       "      <th>freq</th>\n",
       "      <td>188</td>\n",
       "      <td>6204</td>\n",
       "      <td>261</td>\n",
       "      <td>15040</td>\n",
       "    </tr>\n",
       "  </tbody>\n",
       "</table>\n",
       "</div>"
      ],
      "text/plain": [
       "                      Province/State Country/Region       Date WHO Region\n",
       "count                          14664          49068      49068      49068\n",
       "unique                            78            187        188          6\n",
       "top     Australian Capital Territory          China  1/22/2020     Europe\n",
       "freq                             188           6204        261      15040"
      ]
     },
     "execution_count": 6,
     "metadata": {},
     "output_type": "execute_result"
    }
   ],
   "source": [
    "#descriptive statistics of the categorical variables \n",
    "covid_data.describe(include = 'object')"
   ]
  },
  {
   "cell_type": "code",
   "execution_count": 7,
   "metadata": {},
   "outputs": [
    {
     "data": {
      "text/plain": [
       "Province/State    34404\n",
       "Country/Region        0\n",
       "Lat                   0\n",
       "Long                  0\n",
       "Date                  0\n",
       "Confirmed             0\n",
       "Deaths                0\n",
       "Recovered             0\n",
       "Active                0\n",
       "WHO Region            0\n",
       "dtype: int64"
      ]
     },
     "execution_count": 7,
     "metadata": {},
     "output_type": "execute_result"
    }
   ],
   "source": [
    "#checking for the count of missiong values in each of the columns \n",
    "covid_data.isnull().sum()"
   ]
  },
  {
   "cell_type": "markdown",
   "metadata": {},
   "source": [
    "having a look at the concise info from the data, there is a need to change the data types of certain columns as well as drop some irrelevant colunmns. "
   ]
  },
  {
   "cell_type": "code",
   "execution_count": 8,
   "metadata": {},
   "outputs": [],
   "source": [
    "#converting the date column to the correct data type \n",
    "covid_data['Date'] = pd.to_datetime(covid_data['Date'])\n",
    "# dropping the 'Province' column\n",
    "covid_data.drop(columns = 'Province/State', inplace = True)"
   ]
  },
  {
   "cell_type": "code",
   "execution_count": 9,
   "metadata": {},
   "outputs": [
    {
     "data": {
      "text/html": [
       "<div>\n",
       "<style scoped>\n",
       "    .dataframe tbody tr th:only-of-type {\n",
       "        vertical-align: middle;\n",
       "    }\n",
       "\n",
       "    .dataframe tbody tr th {\n",
       "        vertical-align: top;\n",
       "    }\n",
       "\n",
       "    .dataframe thead th {\n",
       "        text-align: right;\n",
       "    }\n",
       "</style>\n",
       "<table border=\"1\" class=\"dataframe\">\n",
       "  <thead>\n",
       "    <tr style=\"text-align: right;\">\n",
       "      <th></th>\n",
       "      <th>Country/Region</th>\n",
       "      <th>Lat</th>\n",
       "      <th>Long</th>\n",
       "      <th>Date</th>\n",
       "      <th>Confirmed</th>\n",
       "      <th>Deaths</th>\n",
       "      <th>Recovered</th>\n",
       "      <th>Active</th>\n",
       "      <th>WHO Region</th>\n",
       "    </tr>\n",
       "  </thead>\n",
       "  <tbody>\n",
       "    <tr>\n",
       "      <th>0</th>\n",
       "      <td>Afghanistan</td>\n",
       "      <td>33.93911</td>\n",
       "      <td>67.709953</td>\n",
       "      <td>2020-01-22</td>\n",
       "      <td>0</td>\n",
       "      <td>0</td>\n",
       "      <td>0</td>\n",
       "      <td>0</td>\n",
       "      <td>Eastern Mediterranean</td>\n",
       "    </tr>\n",
       "    <tr>\n",
       "      <th>1</th>\n",
       "      <td>Albania</td>\n",
       "      <td>41.15330</td>\n",
       "      <td>20.168300</td>\n",
       "      <td>2020-01-22</td>\n",
       "      <td>0</td>\n",
       "      <td>0</td>\n",
       "      <td>0</td>\n",
       "      <td>0</td>\n",
       "      <td>Europe</td>\n",
       "    </tr>\n",
       "    <tr>\n",
       "      <th>2</th>\n",
       "      <td>Algeria</td>\n",
       "      <td>28.03390</td>\n",
       "      <td>1.659600</td>\n",
       "      <td>2020-01-22</td>\n",
       "      <td>0</td>\n",
       "      <td>0</td>\n",
       "      <td>0</td>\n",
       "      <td>0</td>\n",
       "      <td>Africa</td>\n",
       "    </tr>\n",
       "    <tr>\n",
       "      <th>3</th>\n",
       "      <td>Andorra</td>\n",
       "      <td>42.50630</td>\n",
       "      <td>1.521800</td>\n",
       "      <td>2020-01-22</td>\n",
       "      <td>0</td>\n",
       "      <td>0</td>\n",
       "      <td>0</td>\n",
       "      <td>0</td>\n",
       "      <td>Europe</td>\n",
       "    </tr>\n",
       "    <tr>\n",
       "      <th>4</th>\n",
       "      <td>Angola</td>\n",
       "      <td>-11.20270</td>\n",
       "      <td>17.873900</td>\n",
       "      <td>2020-01-22</td>\n",
       "      <td>0</td>\n",
       "      <td>0</td>\n",
       "      <td>0</td>\n",
       "      <td>0</td>\n",
       "      <td>Africa</td>\n",
       "    </tr>\n",
       "  </tbody>\n",
       "</table>\n",
       "</div>"
      ],
      "text/plain": [
       "  Country/Region       Lat       Long       Date  Confirmed  Deaths  \\\n",
       "0    Afghanistan  33.93911  67.709953 2020-01-22          0       0   \n",
       "1        Albania  41.15330  20.168300 2020-01-22          0       0   \n",
       "2        Algeria  28.03390   1.659600 2020-01-22          0       0   \n",
       "3        Andorra  42.50630   1.521800 2020-01-22          0       0   \n",
       "4         Angola -11.20270  17.873900 2020-01-22          0       0   \n",
       "\n",
       "   Recovered  Active             WHO Region  \n",
       "0          0       0  Eastern Mediterranean  \n",
       "1          0       0                 Europe  \n",
       "2          0       0                 Africa  \n",
       "3          0       0                 Europe  \n",
       "4          0       0                 Africa  "
      ]
     },
     "execution_count": 9,
     "metadata": {},
     "output_type": "execute_result"
    }
   ],
   "source": [
    "covid_data.head()"
   ]
  },
  {
   "cell_type": "code",
   "execution_count": 10,
   "metadata": {},
   "outputs": [],
   "source": [
    "#extracting the months fom the date column\n",
    "covid_data['Month'] = covid_data['Date'].dt.month_name()"
   ]
  },
  {
   "cell_type": "code",
   "execution_count": 11,
   "metadata": {},
   "outputs": [
    {
     "data": {
      "text/plain": [
       "828508482"
      ]
     },
     "execution_count": 11,
     "metadata": {},
     "output_type": "execute_result"
    }
   ],
   "source": [
    "#total number of confirmed cases recorded as at 2020-07-27\n",
    "cases = covid_data['Confirmed'].sum()\n",
    "cases"
   ]
  },
  {
   "cell_type": "code",
   "execution_count": 12,
   "metadata": {},
   "outputs": [
    {
     "data": {
      "text/plain": [
       "43384903"
      ]
     },
     "execution_count": 12,
     "metadata": {},
     "output_type": "execute_result"
    }
   ],
   "source": [
    "#total number of confirmed deaths recorded as at 2020-07-27\n",
    "deaths = covid_data['Deaths'].sum()\n",
    "deaths"
   ]
  },
  {
   "cell_type": "code",
   "execution_count": 13,
   "metadata": {},
   "outputs": [
    {
     "data": {
      "text/plain": [
       "388408229"
      ]
     },
     "execution_count": 13,
     "metadata": {},
     "output_type": "execute_result"
    }
   ],
   "source": [
    "#total number of recoviries as at 2020-07-27\n",
    "recovered = covid_data['Recovered'].sum()\n",
    "recovered"
   ]
  },
  {
   "cell_type": "code",
   "execution_count": 14,
   "metadata": {},
   "outputs": [
    {
     "data": {
      "text/plain": [
       "396715350"
      ]
     },
     "execution_count": 14,
     "metadata": {},
     "output_type": "execute_result"
    }
   ],
   "source": [
    "#active cases as at 2020-07-27\n",
    "active = covid_data['Active'].sum()\n",
    "active"
   ]
  },
  {
   "cell_type": "code",
   "execution_count": 15,
   "metadata": {},
   "outputs": [
    {
     "data": {
      "text/plain": [
       "5.23650680018023"
      ]
     },
     "execution_count": 15,
     "metadata": {},
     "output_type": "execute_result"
    }
   ],
   "source": [
    "#percentage of deaths\n",
    "death_percentage=deaths/cases*100\n",
    "death_percentage"
   ]
  },
  {
   "cell_type": "code",
   "execution_count": 16,
   "metadata": {},
   "outputs": [
    {
     "data": {
      "text/plain": [
       "46.88041672939686"
      ]
     },
     "execution_count": 16,
     "metadata": {},
     "output_type": "execute_result"
    }
   ],
   "source": [
    "#percentage of recoveries\n",
    "recovered_percentage=recovered/cases*100\n",
    "recovered_percentage"
   ]
  },
  {
   "cell_type": "code",
   "execution_count": 17,
   "metadata": {},
   "outputs": [
    {
     "data": {
      "text/plain": [
       "47.88307647042291"
      ]
     },
     "execution_count": 17,
     "metadata": {},
     "output_type": "execute_result"
    }
   ],
   "source": [
    "#percentage of active cases\n",
    "active_percentage=active/cases*100\n",
    "active_percentage"
   ]
  },
  {
   "cell_type": "code",
   "execution_count": 18,
   "metadata": {},
   "outputs": [
    {
     "data": {
      "image/png": "[encoded data removed]",
      "text/plain": [
       "<Figure size 640x480 with 1 Axes>"
      ]
     },
     "metadata": {},
     "output_type": "display_data"
    }
   ],
   "source": [
    "# distribution of confirmed cases\n",
    "plt.hist(covid_data['Confirmed'])\n",
    "plt.ticklabel_format(style='plain', axis='x')\n",
    "plt.xlabel('Confirmed Cases')\n",
    "plt.ylabel('Frequency')\n",
    "plt.show()\n"
   ]
  },
  {
   "cell_type": "code",
   "execution_count": 19,
   "metadata": {},
   "outputs": [
    {
     "data": {
      "image/png": "[encoded data removed]",
      "text/plain": [
       "<Figure size 640x480 with 1 Axes>"
      ]
     },
     "metadata": {},
     "output_type": "display_data"
    }
   ],
   "source": [
    "# distribution of death cases\n",
    "plt.hist(covid_data['Deaths'])\n",
    "plt.ticklabel_format(style='plain', axis='x')\n",
    "plt.xlabel('Deaths Cases')\n",
    "plt.ylabel('Frequency')\n",
    "plt.show()\n"
   ]
  },
  {
   "cell_type": "code",
   "execution_count": 20,
   "metadata": {},
   "outputs": [
    {
     "data": {
      "image/png": "[encoded data removed]",
      "text/plain": [
       "<Figure size 640x480 with 1 Axes>"
      ]
     },
     "metadata": {},
     "output_type": "display_data"
    }
   ],
   "source": [
    "# distribution of death cases\n",
    "plt.hist(covid_data['Recovered'])\n",
    "plt.ticklabel_format(style='plain', axis='x')\n",
    "plt.xlabel('Recoveries')\n",
    "plt.ylabel('Frequency')\n",
    "plt.show()"
   ]
  },
  {
   "cell_type": "markdown",
   "metadata": {},
   "source": [
    "#### Trend of Confirmed Cases Overtime"
   ]
  },
  {
   "cell_type": "code",
   "execution_count": 21,
   "metadata": {},
   "outputs": [
    {
     "data": {
      "image/png": "[encoded data removed]",
      "text/plain": [
       "<Figure size 1000x400 with 1 Axes>"
      ]
     },
     "metadata": {},
     "output_type": "display_data"
    }
   ],
   "source": [
    "plt.figure(figsize=(10,4))\n",
    "sns.lineplot(x='Month', y='Confirmed', data=covid_data, marker='o', ci=False)\n",
    "plt.show()\n"
   ]
  },
  {
   "cell_type": "markdown",
   "metadata": {},
   "source": [
    "#### Countries With the Highest Number of Covid Cases \n"
   ]
  },
  {
   "cell_type": "code",
   "execution_count": 22,
   "metadata": {},
   "outputs": [
    {
     "data": {
      "text/plain": [
       "Country/Region\n",
       "US                224345948\n",
       "Brazil             89524967\n",
       "Russia             45408411\n",
       "India              40883464\n",
       "Spain              27404045\n",
       "United Kingdom     26748587\n",
       "Italy              26745145\n",
       "France             21210926\n",
       "Germany            21059152\n",
       "Iran               19339267\n",
       "Name: Confirmed, dtype: int64"
      ]
     },
     "execution_count": 22,
     "metadata": {},
     "output_type": "execute_result"
    }
   ],
   "source": [
    "#top 10 countries with the higest number of recorded cases \n",
    "covid_data.groupby(['Country/Region'])['Confirmed'].sum().sort_values(ascending = False,).head(10)\n"
   ]
  },
  {
   "cell_type": "code",
   "execution_count": 23,
   "metadata": {},
   "outputs": [
    {
     "data": {
      "image/png": "[encoded data removed]",
      "text/plain": [
       "<Figure size 640x480 with 1 Axes>"
      ]
     },
     "metadata": {},
     "output_type": "display_data"
    }
   ],
   "source": [
    "#top 10 countries with the higest number of recorded cases \n",
    "covid_data.groupby(['Country/Region'])['Confirmed'].sum().sort_values(ascending = False,).head(10).plot.bar()\n",
    "plt.ticklabel_format(style='plain', axis='y')\n"
   ]
  },
  {
   "cell_type": "markdown",
   "metadata": {},
   "source": [
    "#### Countries With the Highest Number of Covid Death Cases \n"
   ]
  },
  {
   "cell_type": "code",
   "execution_count": 24,
   "metadata": {},
   "outputs": [
    {
     "data": {
      "image/png": "[encoded data removed]",
      "text/plain": [
       "<Figure size 640x480 with 1 Axes>"
      ]
     },
     "metadata": {},
     "output_type": "display_data"
    }
   ],
   "source": [
    "#top 10 countries with the higest number of recorded cases \n",
    "covid_data.groupby(['Country/Region'])['Deaths'].sum().sort_values(ascending = False,).head(10).plot.bar()\n",
    "plt.ticklabel_format(style='plain', axis='y')\n"
   ]
  },
  {
   "cell_type": "markdown",
   "metadata": {},
   "source": [
    "#### Comparing Countries With Respect to Confirmed Cases, Recoveries and Deaths"
   ]
  },
  {
   "cell_type": "code",
   "execution_count": 25,
   "metadata": {},
   "outputs": [
    {
     "data": {
      "text/html": [
       "<div>\n",
       "<style scoped>\n",
       "    .dataframe tbody tr th:only-of-type {\n",
       "        vertical-align: middle;\n",
       "    }\n",
       "\n",
       "    .dataframe tbody tr th {\n",
       "        vertical-align: top;\n",
       "    }\n",
       "\n",
       "    .dataframe thead th {\n",
       "        text-align: right;\n",
       "    }\n",
       "</style>\n",
       "<table border=\"1\" class=\"dataframe\">\n",
       "  <thead>\n",
       "    <tr style=\"text-align: right;\">\n",
       "      <th></th>\n",
       "      <th>Confirmed</th>\n",
       "      <th>Recovered</th>\n",
       "      <th>Deaths</th>\n",
       "    </tr>\n",
       "    <tr>\n",
       "      <th>Country/Region</th>\n",
       "      <th></th>\n",
       "      <th></th>\n",
       "      <th></th>\n",
       "    </tr>\n",
       "  </thead>\n",
       "  <tbody>\n",
       "    <tr>\n",
       "      <th>US</th>\n",
       "      <td>224345948</td>\n",
       "      <td>56353416</td>\n",
       "      <td>11011411</td>\n",
       "    </tr>\n",
       "    <tr>\n",
       "      <th>Brazil</th>\n",
       "      <td>89524967</td>\n",
       "      <td>54492873</td>\n",
       "      <td>3938034</td>\n",
       "    </tr>\n",
       "    <tr>\n",
       "      <th>Russia</th>\n",
       "      <td>45408411</td>\n",
       "      <td>25120448</td>\n",
       "      <td>619385</td>\n",
       "    </tr>\n",
       "    <tr>\n",
       "      <th>India</th>\n",
       "      <td>40883464</td>\n",
       "      <td>23783720</td>\n",
       "      <td>1111831</td>\n",
       "    </tr>\n",
       "    <tr>\n",
       "      <th>Spain</th>\n",
       "      <td>27404045</td>\n",
       "      <td>15093583</td>\n",
       "      <td>3033030</td>\n",
       "    </tr>\n",
       "    <tr>\n",
       "      <th>United Kingdom</th>\n",
       "      <td>26748587</td>\n",
       "      <td>126217</td>\n",
       "      <td>3997775</td>\n",
       "    </tr>\n",
       "    <tr>\n",
       "      <th>Italy</th>\n",
       "      <td>26745145</td>\n",
       "      <td>15673910</td>\n",
       "      <td>3707717</td>\n",
       "    </tr>\n",
       "    <tr>\n",
       "      <th>France</th>\n",
       "      <td>21210926</td>\n",
       "      <td>7182115</td>\n",
       "      <td>3048524</td>\n",
       "    </tr>\n",
       "    <tr>\n",
       "      <th>Germany</th>\n",
       "      <td>21059152</td>\n",
       "      <td>17107839</td>\n",
       "      <td>871322</td>\n",
       "    </tr>\n",
       "    <tr>\n",
       "      <th>Iran</th>\n",
       "      <td>19339267</td>\n",
       "      <td>15200895</td>\n",
       "      <td>1024136</td>\n",
       "    </tr>\n",
       "  </tbody>\n",
       "</table>\n",
       "</div>"
      ],
      "text/plain": [
       "                Confirmed  Recovered    Deaths\n",
       "Country/Region                                \n",
       "US              224345948   56353416  11011411\n",
       "Brazil           89524967   54492873   3938034\n",
       "Russia           45408411   25120448    619385\n",
       "India            40883464   23783720   1111831\n",
       "Spain            27404045   15093583   3033030\n",
       "United Kingdom   26748587     126217   3997775\n",
       "Italy            26745145   15673910   3707717\n",
       "France           21210926    7182115   3048524\n",
       "Germany          21059152   17107839    871322\n",
       "Iran             19339267   15200895   1024136"
      ]
     },
     "execution_count": 25,
     "metadata": {},
     "output_type": "execute_result"
    }
   ],
   "source": [
    "#graph of countries with the higest number of recorded cases \n",
    "covid_data.groupby(['Country/Region'])['Confirmed', 'Recovered', 'Deaths'].sum().sort_values(ascending = False,\n",
    "                                                            by = 'Confirmed').head(10)"
   ]
  },
  {
   "cell_type": "code",
   "execution_count": 26,
   "metadata": {},
   "outputs": [
    {
     "data": {
      "image/png": "[encoded data removed]",
      "text/plain": [
       "<Figure size 1800x600 with 1 Axes>"
      ]
     },
     "metadata": {},
     "output_type": "display_data"
    }
   ],
   "source": [
    "#graph of countries with the higest number of recorded cases \n",
    "covid_data.groupby(['Country/Region'])['Confirmed', 'Recovered', 'Deaths'].sum().sort_values(ascending = False,\n",
    "                                                    by = 'Confirmed').head(10).plot.bar(figsize = (18, 6));"
   ]
  },
  {
   "cell_type": "markdown",
   "metadata": {},
   "source": [
    "#### Comparing Continents With Respect to Confirmed Cases, Recoveries and Deaths"
   ]
  },
  {
   "cell_type": "code",
   "execution_count": 27,
   "metadata": {},
   "outputs": [
    {
     "data": {
      "text/html": [
       "<div>\n",
       "<style scoped>\n",
       "    .dataframe tbody tr th:only-of-type {\n",
       "        vertical-align: middle;\n",
       "    }\n",
       "\n",
       "    .dataframe tbody tr th {\n",
       "        vertical-align: top;\n",
       "    }\n",
       "\n",
       "    .dataframe thead th {\n",
       "        text-align: right;\n",
       "    }\n",
       "</style>\n",
       "<table border=\"1\" class=\"dataframe\">\n",
       "  <thead>\n",
       "    <tr style=\"text-align: right;\">\n",
       "      <th></th>\n",
       "      <th>Confirmed</th>\n",
       "      <th>Recovered</th>\n",
       "      <th>Deaths</th>\n",
       "    </tr>\n",
       "    <tr>\n",
       "      <th>WHO Region</th>\n",
       "      <th></th>\n",
       "      <th></th>\n",
       "      <th></th>\n",
       "    </tr>\n",
       "  </thead>\n",
       "  <tbody>\n",
       "    <tr>\n",
       "      <th>Americas</th>\n",
       "      <td>402261194</td>\n",
       "      <td>157069444</td>\n",
       "      <td>19359292</td>\n",
       "    </tr>\n",
       "    <tr>\n",
       "      <th>Europe</th>\n",
       "      <td>248879793</td>\n",
       "      <td>123202075</td>\n",
       "      <td>19271040</td>\n",
       "    </tr>\n",
       "    <tr>\n",
       "      <th>Eastern Mediterranean</th>\n",
       "      <td>74082892</td>\n",
       "      <td>48050703</td>\n",
       "      <td>1924029</td>\n",
       "    </tr>\n",
       "    <tr>\n",
       "      <th>South-East Asia</th>\n",
       "      <td>55118365</td>\n",
       "      <td>30030327</td>\n",
       "      <td>1458134</td>\n",
       "    </tr>\n",
       "    <tr>\n",
       "      <th>Western Pacific</th>\n",
       "      <td>26374411</td>\n",
       "      <td>18861950</td>\n",
       "      <td>932430</td>\n",
       "    </tr>\n",
       "    <tr>\n",
       "      <th>Africa</th>\n",
       "      <td>21791827</td>\n",
       "      <td>11193730</td>\n",
       "      <td>439978</td>\n",
       "    </tr>\n",
       "  </tbody>\n",
       "</table>\n",
       "</div>"
      ],
      "text/plain": [
       "                       Confirmed  Recovered    Deaths\n",
       "WHO Region                                           \n",
       "Americas               402261194  157069444  19359292\n",
       "Europe                 248879793  123202075  19271040\n",
       "Eastern Mediterranean   74082892   48050703   1924029\n",
       "South-East Asia         55118365   30030327   1458134\n",
       "Western Pacific         26374411   18861950    932430\n",
       "Africa                  21791827   11193730    439978"
      ]
     },
     "execution_count": 27,
     "metadata": {},
     "output_type": "execute_result"
    }
   ],
   "source": [
    "#continent with the higest number of recorded cases \n",
    "covid_data.groupby(['WHO Region'])['Confirmed', 'Recovered', 'Deaths'].sum().sort_values(ascending = False,\n",
    "                                                            by = 'Confirmed')\n"
   ]
  },
  {
   "cell_type": "code",
   "execution_count": 28,
   "metadata": {},
   "outputs": [
    {
     "data": {
      "image/png": "[encoded data removed]",
      "text/plain": [
       "<Figure size 640x480 with 1 Axes>"
      ]
     },
     "metadata": {},
     "output_type": "display_data"
    }
   ],
   "source": [
    "#graph of continent with the higest number of recorded cases \n",
    "covid_data.groupby(['WHO Region'])['Confirmed', 'Recovered', 'Deaths'].sum().sort_values(ascending = False,\n",
    "                                                            by = 'Confirmed').head(10).plot.bar();\n",
    "plt.ticklabel_format(style='plain', axis='y')\n"
   ]
  },
  {
   "cell_type": "markdown",
   "metadata": {},
   "source": [
    "#### Relationship Between Variables"
   ]
  },
  {
   "cell_type": "code",
   "execution_count": 29,
   "metadata": {},
   "outputs": [
    {
     "data": {
      "image/png": "[encoded data removed]",
      "text/plain": [
       "<Figure size 640x480 with 2 Axes>"
      ]
     },
     "metadata": {},
     "output_type": "display_data"
    }
   ],
   "source": [
    "# Calculate the correlation matrix\n",
    "corr = covid_data[['Confirmed', 'Deaths', 'Recovered', 'Active']].corr()\n",
    "\n",
    "# Generate a mask for the upper triangle\n",
    "mask = np.triu(np.ones_like(corr, dtype=bool))\n",
    "\n",
    "# Set the color map to diverging\n",
    "cmap = sns.diverging_palette(220, 10, as_cmap=True)\n",
    "\n",
    "# Draw the heatmap with the mask and correct aspect ratio\n",
    "sns.heatmap(corr, mask=mask, cmap=cmap, vmax=1, vmin=-1, center=0,\n",
    "            square=True, linewidths=.5, cbar_kws={\"shrink\": .5}, annot=True)\n",
    "\n",
    "# Add the title and x and y labels\n",
    "plt.title('Correlation Matrix of Numerical Features', fontsize=16)\n",
    "plt.xlabel('Feature', fontsize=14)\n",
    "plt.ylabel('Feature', fontsize=14)\n",
    "\n",
    "# Show the plot\n",
    "plt.show()"
   ]
  },
  {
   "cell_type": "markdown",
   "metadata": {},
   "source": [
    "#### Statistical Test to Check the Relationship Between Continents and Recorded Cases"
   ]
  },
  {
   "cell_type": "markdown",
   "metadata": {},
   "source": [
    "To find the statistical relationship between continents and the number of COVID-19 cases, we \n",
    "can use a hypothesis test such as ANOVA (Analysis of Variance) or Kruskal-Wallis test, depending on the distribution of the data and the assumptions of the test.\n",
    "\n",
    "If the data is normally distributed and meets the assumptions of ANOVA, we can use ANOVA to test whether there is a significant difference in the mean number of COVID-19 cases among the different continents. If the data is not normally distributed or does not meet the assumptions of ANOVA, we can use the Kruskal-Wallis test, which is a nonparametric test that does not make assumptions about the distribution of the data."
   ]
  },
  {
   "cell_type": "markdown",
   "metadata": {},
   "source": [
    "we will use the Shapiro-Wilk Test to test the null hypothesis that the data is normally distributed"
   ]
  },
  {
   "cell_type": "code",
   "execution_count": 30,
   "metadata": {},
   "outputs": [
    {
     "name": "stdout",
     "output_type": "stream",
     "text": [
      "Shapiro-Wilk Test: test statistic = 0.10139989852905273, p-value = 0.0\n"
     ]
    }
   ],
   "source": [
    "#checking for the normality of the data \n",
    "from scipy.stats import shapiro\n",
    "\n",
    "# Test for normality\n",
    "test_stat, p_value = shapiro(covid_data['Confirmed'])\n",
    "\n",
    "# Print the test statistic and p-value\n",
    "print(f\"Shapiro-Wilk Test: test statistic = {test_stat}, p-value = {p_value}\")\n"
   ]
  },
  {
   "cell_type": "markdown",
   "metadata": {},
   "source": [
    "Since the p-value is less than 0.05, we reject the null hypothesis and conclude that the data is not normally distributed"
   ]
  },
  {
   "cell_type": "code",
   "execution_count": 31,
   "metadata": {},
   "outputs": [
    {
     "data": {
      "image/png": "[encoded data removed]",
      "text/plain": [
       "<Figure size 640x480 with 1 Axes>"
      ]
     },
     "metadata": {},
     "output_type": "display_data"
    }
   ],
   "source": [
    "#we can also check the normality of the data by simple histogram\n",
    "\n",
    "# Plot a histogram\n",
    "plt.hist(covid_data['Confirmed'], bins=10)\n",
    "plt.show()\n"
   ]
  },
  {
   "cell_type": "markdown",
   "metadata": {},
   "source": [
    "Since the data is rightly skewed, one common method to normalize it is to apply a logarithmic or square root transformation. "
   ]
  },
  {
   "cell_type": "code",
   "execution_count": 32,
   "metadata": {},
   "outputs": [
    {
     "data": {
      "text/plain": [
       "<seaborn.axisgrid.FacetGrid at 0x12bb9f56940>"
      ]
     },
     "execution_count": 32,
     "metadata": {},
     "output_type": "execute_result"
    },
    {
     "data": {
      "image/png": "[encoded data removed]",
      "text/plain": [
       "<Figure size 500x500 with 1 Axes>"
      ]
     },
     "metadata": {},
     "output_type": "display_data"
    }
   ],
   "source": [
    "\n",
    "# Apply log transformation to 'Confirmed' column\n",
    "covid_data['Confirmed_log'] = np.sqrt(covid_data['Confirmed'])\n",
    "\n",
    "# Check the distribution of the transformed data\n",
    "sns.displot(covid_data, x='Confirmed_log')\n",
    "\n"
   ]
  },
  {
   "cell_type": "code",
   "execution_count": 33,
   "metadata": {},
   "outputs": [],
   "source": [
    "#renaming the 'WHO Region' column\n",
    "covid_data = covid_data.rename(columns={'WHO Region': 'Continent'})"
   ]
  },
  {
   "cell_type": "code",
   "execution_count": 34,
   "metadata": {},
   "outputs": [],
   "source": [
    "#grouping only the data we are interested in\n",
    "grouped_data = covid_data[['Continent', 'Confirmed_log']]"
   ]
  },
  {
   "cell_type": "code",
   "execution_count": 35,
   "metadata": {},
   "outputs": [
    {
     "data": {
      "text/html": [
       "<div>\n",
       "<style scoped>\n",
       "    .dataframe tbody tr th:only-of-type {\n",
       "        vertical-align: middle;\n",
       "    }\n",
       "\n",
       "    .dataframe tbody tr th {\n",
       "        vertical-align: top;\n",
       "    }\n",
       "\n",
       "    .dataframe thead th {\n",
       "        text-align: right;\n",
       "    }\n",
       "</style>\n",
       "<table border=\"1\" class=\"dataframe\">\n",
       "  <thead>\n",
       "    <tr style=\"text-align: right;\">\n",
       "      <th></th>\n",
       "      <th>df</th>\n",
       "      <th>sum_sq</th>\n",
       "      <th>mean_sq</th>\n",
       "      <th>F</th>\n",
       "      <th>PR(&gt;F)</th>\n",
       "    </tr>\n",
       "  </thead>\n",
       "  <tbody>\n",
       "    <tr>\n",
       "      <th>C(Continent)</th>\n",
       "      <td>5.0</td>\n",
       "      <td>2.133611e+07</td>\n",
       "      <td>4.267222e+06</td>\n",
       "      <td>305.482536</td>\n",
       "      <td>3.458460e-323</td>\n",
       "    </tr>\n",
       "    <tr>\n",
       "      <th>Residual</th>\n",
       "      <td>49062.0</td>\n",
       "      <td>6.853369e+08</td>\n",
       "      <td>1.396879e+04</td>\n",
       "      <td>NaN</td>\n",
       "      <td>NaN</td>\n",
       "    </tr>\n",
       "  </tbody>\n",
       "</table>\n",
       "</div>"
      ],
      "text/plain": [
       "                   df        sum_sq       mean_sq           F         PR(>F)\n",
       "C(Continent)      5.0  2.133611e+07  4.267222e+06  305.482536  3.458460e-323\n",
       "Residual      49062.0  6.853369e+08  1.396879e+04         NaN            NaN"
      ]
     },
     "execution_count": 35,
     "metadata": {},
     "output_type": "execute_result"
    }
   ],
   "source": [
    "#perfroming ANOVA Test on the data\n",
    "from bioinfokit.analys import stat\n",
    "\n",
    "res = stat()\n",
    "res.anova_stat(df=grouped_data, res_var='Confirmed_log', anova_model='Confirmed_log ~ C(Continent)')\n",
    "res.anova_summary"
   ]
  },
  {
   "cell_type": "markdown",
   "metadata": {},
   "source": [
    "The p-value of 3.458460e-32 (less than 0.05) obtained from the ANOVA test suggests strong evidence against the null hypothesis that there is no difference in the mean number of confirmed cases across the continents. In other words, the results indicate that there is a statistically significant relationship between the continent and the number of confirmed cases.\n",
    "\n",
    "The extremely low p-value suggests that it is highly unlikely to observe such a large difference in the means of confirmed cases across the continents by chance alone, assuming that the null hypothesis is true. Therefore, we can reject the null hypothesis and conclude that the differences in the mean number of confirmed cases across the continents are likely due to real differences in the population means.\n",
    "\n",
    "It is important to note that although the ANOVA test indicates the presence of a statistically significant relationship, it does not provide information about the direction or magnitude of the effect. Therefore, further analyses may be needed to fully understand the nature of the relationship between the continent and the number of confirmed cases.\n"
   ]
  },
  {
   "cell_type": "markdown",
   "metadata": {},
   "source": [
    "Since we have rejected the null hypothesis in an ANOVA test, post-hoc tests can help determine which groups are significantly different from each other. Common post-hoc tests include Tukey's HSD."
   ]
  },
  {
   "cell_type": "code",
   "execution_count": 36,
   "metadata": {},
   "outputs": [
    {
     "data": {
      "text/html": [
       "<div>\n",
       "<style scoped>\n",
       "    .dataframe tbody tr th:only-of-type {\n",
       "        vertical-align: middle;\n",
       "    }\n",
       "\n",
       "    .dataframe tbody tr th {\n",
       "        vertical-align: top;\n",
       "    }\n",
       "\n",
       "    .dataframe thead th {\n",
       "        text-align: right;\n",
       "    }\n",
       "</style>\n",
       "<table border=\"1\" class=\"dataframe\">\n",
       "  <thead>\n",
       "    <tr style=\"text-align: right;\">\n",
       "      <th></th>\n",
       "      <th>group1</th>\n",
       "      <th>group2</th>\n",
       "      <th>Diff</th>\n",
       "      <th>Lower</th>\n",
       "      <th>Upper</th>\n",
       "      <th>q-value</th>\n",
       "      <th>p-value</th>\n",
       "    </tr>\n",
       "  </thead>\n",
       "  <tbody>\n",
       "    <tr>\n",
       "      <th>0</th>\n",
       "      <td>Eastern Mediterranean</td>\n",
       "      <td>Europe</td>\n",
       "      <td>13.694160</td>\n",
       "      <td>7.780506</td>\n",
       "      <td>19.607814</td>\n",
       "      <td>9.332675</td>\n",
       "      <td>0.001000</td>\n",
       "    </tr>\n",
       "    <tr>\n",
       "      <th>1</th>\n",
       "      <td>Eastern Mediterranean</td>\n",
       "      <td>Africa</td>\n",
       "      <td>52.050691</td>\n",
       "      <td>45.726148</td>\n",
       "      <td>58.375235</td>\n",
       "      <td>33.168355</td>\n",
       "      <td>0.001000</td>\n",
       "    </tr>\n",
       "    <tr>\n",
       "      <th>3</th>\n",
       "      <td>Eastern Mediterranean</td>\n",
       "      <td>Western Pacific</td>\n",
       "      <td>47.270888</td>\n",
       "      <td>41.074126</td>\n",
       "      <td>53.467650</td>\n",
       "      <td>30.743660</td>\n",
       "      <td>0.001000</td>\n",
       "    </tr>\n",
       "    <tr>\n",
       "      <th>5</th>\n",
       "      <td>Europe</td>\n",
       "      <td>Africa</td>\n",
       "      <td>38.356531</td>\n",
       "      <td>33.871644</td>\n",
       "      <td>42.841418</td>\n",
       "      <td>34.467869</td>\n",
       "      <td>0.001000</td>\n",
       "    </tr>\n",
       "    <tr>\n",
       "      <th>6</th>\n",
       "      <td>Europe</td>\n",
       "      <td>Americas</td>\n",
       "      <td>11.156239</td>\n",
       "      <td>6.610825</td>\n",
       "      <td>15.701654</td>\n",
       "      <td>9.891700</td>\n",
       "      <td>0.001000</td>\n",
       "    </tr>\n",
       "    <tr>\n",
       "      <th>7</th>\n",
       "      <td>Europe</td>\n",
       "      <td>Western Pacific</td>\n",
       "      <td>33.576728</td>\n",
       "      <td>29.273913</td>\n",
       "      <td>37.879543</td>\n",
       "      <td>31.449396</td>\n",
       "      <td>0.001000</td>\n",
       "    </tr>\n",
       "    <tr>\n",
       "      <th>9</th>\n",
       "      <td>Africa</td>\n",
       "      <td>Americas</td>\n",
       "      <td>49.512771</td>\n",
       "      <td>44.444305</td>\n",
       "      <td>54.581236</td>\n",
       "      <td>39.370173</td>\n",
       "      <td>0.001000</td>\n",
       "    </tr>\n",
       "    <tr>\n",
       "      <th>11</th>\n",
       "      <td>Africa</td>\n",
       "      <td>South-East Asia</td>\n",
       "      <td>47.065045</td>\n",
       "      <td>38.526074</td>\n",
       "      <td>55.604015</td>\n",
       "      <td>22.213633</td>\n",
       "      <td>0.001000</td>\n",
       "    </tr>\n",
       "    <tr>\n",
       "      <th>12</th>\n",
       "      <td>Americas</td>\n",
       "      <td>Western Pacific</td>\n",
       "      <td>44.732967</td>\n",
       "      <td>39.824877</td>\n",
       "      <td>49.641058</td>\n",
       "      <td>36.731762</td>\n",
       "      <td>0.001000</td>\n",
       "    </tr>\n",
       "    <tr>\n",
       "      <th>14</th>\n",
       "      <td>Western Pacific</td>\n",
       "      <td>South-East Asia</td>\n",
       "      <td>42.285242</td>\n",
       "      <td>33.840479</td>\n",
       "      <td>50.730005</td>\n",
       "      <td>20.180316</td>\n",
       "      <td>0.001000</td>\n",
       "    </tr>\n",
       "    <tr>\n",
       "      <th>8</th>\n",
       "      <td>Europe</td>\n",
       "      <td>South-East Asia</td>\n",
       "      <td>8.708514</td>\n",
       "      <td>0.469250</td>\n",
       "      <td>16.947777</td>\n",
       "      <td>4.259732</td>\n",
       "      <td>0.031151</td>\n",
       "    </tr>\n",
       "    <tr>\n",
       "      <th>10</th>\n",
       "      <td>Africa</td>\n",
       "      <td>Western Pacific</td>\n",
       "      <td>4.779803</td>\n",
       "      <td>-0.072286</td>\n",
       "      <td>9.631892</td>\n",
       "      <td>3.970159</td>\n",
       "      <td>0.056350</td>\n",
       "    </tr>\n",
       "    <tr>\n",
       "      <th>4</th>\n",
       "      <td>Eastern Mediterranean</td>\n",
       "      <td>South-East Asia</td>\n",
       "      <td>4.985646</td>\n",
       "      <td>-4.382977</td>\n",
       "      <td>14.354270</td>\n",
       "      <td>2.144728</td>\n",
       "      <td>0.633066</td>\n",
       "    </tr>\n",
       "    <tr>\n",
       "      <th>2</th>\n",
       "      <td>Eastern Mediterranean</td>\n",
       "      <td>Americas</td>\n",
       "      <td>2.537921</td>\n",
       "      <td>-3.829687</td>\n",
       "      <td>8.905529</td>\n",
       "      <td>1.606306</td>\n",
       "      <td>0.852951</td>\n",
       "    </tr>\n",
       "    <tr>\n",
       "      <th>13</th>\n",
       "      <td>Americas</td>\n",
       "      <td>South-East Asia</td>\n",
       "      <td>2.447726</td>\n",
       "      <td>-6.123190</td>\n",
       "      <td>11.018641</td>\n",
       "      <td>1.150965</td>\n",
       "      <td>0.900000</td>\n",
       "    </tr>\n",
       "  </tbody>\n",
       "</table>\n",
       "</div>"
      ],
      "text/plain": [
       "                   group1           group2       Diff      Lower      Upper  \\\n",
       "0   Eastern Mediterranean           Europe  13.694160   7.780506  19.607814   \n",
       "1   Eastern Mediterranean           Africa  52.050691  45.726148  58.375235   \n",
       "3   Eastern Mediterranean  Western Pacific  47.270888  41.074126  53.467650   \n",
       "5                  Europe           Africa  38.356531  33.871644  42.841418   \n",
       "6                  Europe         Americas  11.156239   6.610825  15.701654   \n",
       "7                  Europe  Western Pacific  33.576728  29.273913  37.879543   \n",
       "9                  Africa         Americas  49.512771  44.444305  54.581236   \n",
       "11                 Africa  South-East Asia  47.065045  38.526074  55.604015   \n",
       "12               Americas  Western Pacific  44.732967  39.824877  49.641058   \n",
       "14        Western Pacific  South-East Asia  42.285242  33.840479  50.730005   \n",
       "8                  Europe  South-East Asia   8.708514   0.469250  16.947777   \n",
       "10                 Africa  Western Pacific   4.779803  -0.072286   9.631892   \n",
       "4   Eastern Mediterranean  South-East Asia   4.985646  -4.382977  14.354270   \n",
       "2   Eastern Mediterranean         Americas   2.537921  -3.829687   8.905529   \n",
       "13               Americas  South-East Asia   2.447726  -6.123190  11.018641   \n",
       "\n",
       "      q-value   p-value  \n",
       "0    9.332675  0.001000  \n",
       "1   33.168355  0.001000  \n",
       "3   30.743660  0.001000  \n",
       "5   34.467869  0.001000  \n",
       "6    9.891700  0.001000  \n",
       "7   31.449396  0.001000  \n",
       "9   39.370173  0.001000  \n",
       "11  22.213633  0.001000  \n",
       "12  36.731762  0.001000  \n",
       "14  20.180316  0.001000  \n",
       "8    4.259732  0.031151  \n",
       "10   3.970159  0.056350  \n",
       "4    2.144728  0.633066  \n",
       "2    1.606306  0.852951  \n",
       "13   1.150965  0.900000  "
      ]
     },
     "execution_count": 36,
     "metadata": {},
     "output_type": "execute_result"
    }
   ],
   "source": [
    "\n",
    "# for main effect Item Type\n",
    "res.tukey_hsd(df=grouped_data, res_var='Confirmed_log', xfac_var='Continent', anova_model='Confirmed_log~C(Continent)')\n",
    "res.tukey_summary.sort_values('p-value')"
   ]
  },
  {
   "cell_type": "markdown",
   "metadata": {},
   "source": []
  },
  {
   "cell_type": "markdown",
   "metadata": {},
   "source": [
    "In the context of our Tukey HSD test, a p-value less than 0.05 after the FDR adjustment suggests that the difference in the mean number of confirmed cases between the two groups is statistically significant at 0.05 level of significance, while a p-value greater than 0.05 suggests that we fail to reject the null hypothesis that there is no significant difference between the two groups."
   ]
  },
  {
   "cell_type": "markdown",
   "metadata": {},
   "source": [
    "#### Analysis on Ghana"
   ]
  },
  {
   "cell_type": "code",
   "execution_count": 37,
   "metadata": {},
   "outputs": [
    {
     "data": {
      "text/html": [
       "<div>\n",
       "<style scoped>\n",
       "    .dataframe tbody tr th:only-of-type {\n",
       "        vertical-align: middle;\n",
       "    }\n",
       "\n",
       "    .dataframe tbody tr th {\n",
       "        vertical-align: top;\n",
       "    }\n",
       "\n",
       "    .dataframe thead th {\n",
       "        text-align: right;\n",
       "    }\n",
       "</style>\n",
       "<table border=\"1\" class=\"dataframe\">\n",
       "  <thead>\n",
       "    <tr style=\"text-align: right;\">\n",
       "      <th></th>\n",
       "      <th>Country/Region</th>\n",
       "      <th>Lat</th>\n",
       "      <th>Long</th>\n",
       "      <th>Date</th>\n",
       "      <th>Confirmed</th>\n",
       "      <th>Deaths</th>\n",
       "      <th>Recovered</th>\n",
       "      <th>Active</th>\n",
       "      <th>Continent</th>\n",
       "      <th>Month</th>\n",
       "      <th>Confirmed_log</th>\n",
       "    </tr>\n",
       "  </thead>\n",
       "  <tbody>\n",
       "    <tr>\n",
       "      <th>119</th>\n",
       "      <td>Ghana</td>\n",
       "      <td>7.9465</td>\n",
       "      <td>-1.0232</td>\n",
       "      <td>2020-01-22</td>\n",
       "      <td>0</td>\n",
       "      <td>0</td>\n",
       "      <td>0</td>\n",
       "      <td>0</td>\n",
       "      <td>Africa</td>\n",
       "      <td>January</td>\n",
       "      <td>0.0</td>\n",
       "    </tr>\n",
       "    <tr>\n",
       "      <th>380</th>\n",
       "      <td>Ghana</td>\n",
       "      <td>7.9465</td>\n",
       "      <td>-1.0232</td>\n",
       "      <td>2020-01-23</td>\n",
       "      <td>0</td>\n",
       "      <td>0</td>\n",
       "      <td>0</td>\n",
       "      <td>0</td>\n",
       "      <td>Africa</td>\n",
       "      <td>January</td>\n",
       "      <td>0.0</td>\n",
       "    </tr>\n",
       "    <tr>\n",
       "      <th>641</th>\n",
       "      <td>Ghana</td>\n",
       "      <td>7.9465</td>\n",
       "      <td>-1.0232</td>\n",
       "      <td>2020-01-24</td>\n",
       "      <td>0</td>\n",
       "      <td>0</td>\n",
       "      <td>0</td>\n",
       "      <td>0</td>\n",
       "      <td>Africa</td>\n",
       "      <td>January</td>\n",
       "      <td>0.0</td>\n",
       "    </tr>\n",
       "    <tr>\n",
       "      <th>902</th>\n",
       "      <td>Ghana</td>\n",
       "      <td>7.9465</td>\n",
       "      <td>-1.0232</td>\n",
       "      <td>2020-01-25</td>\n",
       "      <td>0</td>\n",
       "      <td>0</td>\n",
       "      <td>0</td>\n",
       "      <td>0</td>\n",
       "      <td>Africa</td>\n",
       "      <td>January</td>\n",
       "      <td>0.0</td>\n",
       "    </tr>\n",
       "    <tr>\n",
       "      <th>1163</th>\n",
       "      <td>Ghana</td>\n",
       "      <td>7.9465</td>\n",
       "      <td>-1.0232</td>\n",
       "      <td>2020-01-26</td>\n",
       "      <td>0</td>\n",
       "      <td>0</td>\n",
       "      <td>0</td>\n",
       "      <td>0</td>\n",
       "      <td>Africa</td>\n",
       "      <td>January</td>\n",
       "      <td>0.0</td>\n",
       "    </tr>\n",
       "  </tbody>\n",
       "</table>\n",
       "</div>"
      ],
      "text/plain": [
       "     Country/Region     Lat    Long       Date  Confirmed  Deaths  Recovered  \\\n",
       "119           Ghana  7.9465 -1.0232 2020-01-22          0       0          0   \n",
       "380           Ghana  7.9465 -1.0232 2020-01-23          0       0          0   \n",
       "641           Ghana  7.9465 -1.0232 2020-01-24          0       0          0   \n",
       "902           Ghana  7.9465 -1.0232 2020-01-25          0       0          0   \n",
       "1163          Ghana  7.9465 -1.0232 2020-01-26          0       0          0   \n",
       "\n",
       "      Active Continent    Month  Confirmed_log  \n",
       "119        0    Africa  January            0.0  \n",
       "380        0    Africa  January            0.0  \n",
       "641        0    Africa  January            0.0  \n",
       "902        0    Africa  January            0.0  \n",
       "1163       0    Africa  January            0.0  "
      ]
     },
     "execution_count": 37,
     "metadata": {},
     "output_type": "execute_result"
    }
   ],
   "source": [
    "ghana=covid_data.loc[covid_data['Country/Region']=='Ghana']\n",
    "ghana.head()"
   ]
  },
  {
   "cell_type": "code",
   "execution_count": 38,
   "metadata": {},
   "outputs": [
    {
     "data": {
      "text/html": [
       "<div>\n",
       "<style scoped>\n",
       "    .dataframe tbody tr th:only-of-type {\n",
       "        vertical-align: middle;\n",
       "    }\n",
       "\n",
       "    .dataframe tbody tr th {\n",
       "        vertical-align: top;\n",
       "    }\n",
       "\n",
       "    .dataframe thead th {\n",
       "        text-align: right;\n",
       "    }\n",
       "</style>\n",
       "<table border=\"1\" class=\"dataframe\">\n",
       "  <thead>\n",
       "    <tr style=\"text-align: right;\">\n",
       "      <th></th>\n",
       "      <th>Lat</th>\n",
       "      <th>Long</th>\n",
       "      <th>Confirmed</th>\n",
       "      <th>Deaths</th>\n",
       "      <th>Recovered</th>\n",
       "      <th>Active</th>\n",
       "      <th>Confirmed_log</th>\n",
       "    </tr>\n",
       "  </thead>\n",
       "  <tbody>\n",
       "    <tr>\n",
       "      <th>count</th>\n",
       "      <td>1.880000e+02</td>\n",
       "      <td>1.880000e+02</td>\n",
       "      <td>188.000000</td>\n",
       "      <td>188.000000</td>\n",
       "      <td>188.000000</td>\n",
       "      <td>188.000000</td>\n",
       "      <td>188.000000</td>\n",
       "    </tr>\n",
       "    <tr>\n",
       "      <th>mean</th>\n",
       "      <td>7.946500e+00</td>\n",
       "      <td>-1.023200e+00</td>\n",
       "      <td>6631.085106</td>\n",
       "      <td>36.744681</td>\n",
       "      <td>4332.601064</td>\n",
       "      <td>2261.739362</td>\n",
       "      <td>57.153959</td>\n",
       "    </tr>\n",
       "    <tr>\n",
       "      <th>std</th>\n",
       "      <td>1.335825e-14</td>\n",
       "      <td>2.003738e-15</td>\n",
       "      <td>9108.539392</td>\n",
       "      <td>49.709409</td>\n",
       "      <td>7703.560948</td>\n",
       "      <td>2394.977463</td>\n",
       "      <td>58.159283</td>\n",
       "    </tr>\n",
       "    <tr>\n",
       "      <th>min</th>\n",
       "      <td>7.946500e+00</td>\n",
       "      <td>-1.023200e+00</td>\n",
       "      <td>0.000000</td>\n",
       "      <td>0.000000</td>\n",
       "      <td>0.000000</td>\n",
       "      <td>0.000000</td>\n",
       "      <td>0.000000</td>\n",
       "    </tr>\n",
       "    <tr>\n",
       "      <th>25%</th>\n",
       "      <td>7.946500e+00</td>\n",
       "      <td>-1.023200e+00</td>\n",
       "      <td>0.000000</td>\n",
       "      <td>0.000000</td>\n",
       "      <td>0.000000</td>\n",
       "      <td>0.000000</td>\n",
       "      <td>0.000000</td>\n",
       "    </tr>\n",
       "    <tr>\n",
       "      <th>50%</th>\n",
       "      <td>7.946500e+00</td>\n",
       "      <td>-1.023200e+00</td>\n",
       "      <td>1279.000000</td>\n",
       "      <td>10.000000</td>\n",
       "      <td>134.000000</td>\n",
       "      <td>1135.000000</td>\n",
       "      <td>35.763109</td>\n",
       "    </tr>\n",
       "    <tr>\n",
       "      <th>75%</th>\n",
       "      <td>7.946500e+00</td>\n",
       "      <td>-1.023200e+00</td>\n",
       "      <td>10240.250000</td>\n",
       "      <td>48.000000</td>\n",
       "      <td>3772.250000</td>\n",
       "      <td>4273.000000</td>\n",
       "      <td>101.193565</td>\n",
       "    </tr>\n",
       "    <tr>\n",
       "      <th>max</th>\n",
       "      <td>7.946500e+00</td>\n",
       "      <td>-1.023200e+00</td>\n",
       "      <td>33624.000000</td>\n",
       "      <td>168.000000</td>\n",
       "      <td>29801.000000</td>\n",
       "      <td>8585.000000</td>\n",
       "      <td>183.368481</td>\n",
       "    </tr>\n",
       "  </tbody>\n",
       "</table>\n",
       "</div>"
      ],
      "text/plain": [
       "                Lat          Long     Confirmed      Deaths     Recovered  \\\n",
       "count  1.880000e+02  1.880000e+02    188.000000  188.000000    188.000000   \n",
       "mean   7.946500e+00 -1.023200e+00   6631.085106   36.744681   4332.601064   \n",
       "std    1.335825e-14  2.003738e-15   9108.539392   49.709409   7703.560948   \n",
       "min    7.946500e+00 -1.023200e+00      0.000000    0.000000      0.000000   \n",
       "25%    7.946500e+00 -1.023200e+00      0.000000    0.000000      0.000000   \n",
       "50%    7.946500e+00 -1.023200e+00   1279.000000   10.000000    134.000000   \n",
       "75%    7.946500e+00 -1.023200e+00  10240.250000   48.000000   3772.250000   \n",
       "max    7.946500e+00 -1.023200e+00  33624.000000  168.000000  29801.000000   \n",
       "\n",
       "            Active  Confirmed_log  \n",
       "count   188.000000     188.000000  \n",
       "mean   2261.739362      57.153959  \n",
       "std    2394.977463      58.159283  \n",
       "min       0.000000       0.000000  \n",
       "25%       0.000000       0.000000  \n",
       "50%    1135.000000      35.763109  \n",
       "75%    4273.000000     101.193565  \n",
       "max    8585.000000     183.368481  "
      ]
     },
     "execution_count": 38,
     "metadata": {},
     "output_type": "execute_result"
    }
   ],
   "source": [
    "ghana.describe()"
   ]
  },
  {
   "cell_type": "code",
   "execution_count": 39,
   "metadata": {},
   "outputs": [
    {
     "data": {
      "text/plain": [
       "1246644"
      ]
     },
     "execution_count": 39,
     "metadata": {},
     "output_type": "execute_result"
    }
   ],
   "source": [
    "#total number of confirmed cases recorded as at 2020-07-27\n",
    "ghana_cases = ghana['Confirmed'].sum()\n",
    "ghana_cases"
   ]
  },
  {
   "cell_type": "code",
   "execution_count": 40,
   "metadata": {},
   "outputs": [
    {
     "data": {
      "text/plain": [
       "6908"
      ]
     },
     "execution_count": 40,
     "metadata": {},
     "output_type": "execute_result"
    }
   ],
   "source": [
    "#total number of confirmed deaths recorded as at 2020-07-27\n",
    "ghana_deaths = ghana['Deaths'].sum()\n",
    "ghana_deaths"
   ]
  },
  {
   "cell_type": "code",
   "execution_count": 41,
   "metadata": {},
   "outputs": [
    {
     "data": {
      "text/plain": [
       "425207"
      ]
     },
     "execution_count": 41,
     "metadata": {},
     "output_type": "execute_result"
    }
   ],
   "source": [
    "#total number of active cases as at 2020-07-27\n",
    "ghana_active = ghana['Active'].sum()\n",
    "ghana_active"
   ]
  },
  {
   "cell_type": "code",
   "execution_count": 42,
   "metadata": {},
   "outputs": [
    {
     "data": {
      "text/plain": [
       "0.5541277221083164"
      ]
     },
     "execution_count": 42,
     "metadata": {},
     "output_type": "execute_result"
    }
   ],
   "source": [
    "#percentage of deaths\n",
    "ghana_death_percentage=ghana_deaths/ghana_cases*100\n",
    "ghana_death_percentage"
   ]
  },
  {
   "cell_type": "code",
   "execution_count": 43,
   "metadata": {},
   "outputs": [
    {
     "data": {
      "image/png": "[encoded data removed]",
      "text/plain": [
       "<Figure size 1000x400 with 1 Axes>"
      ]
     },
     "metadata": {},
     "output_type": "display_data"
    }
   ],
   "source": [
    "plt.figure(figsize = (10,4))\n",
    "sns.lineplot(x = 'Month', y = 'Confirmed', data = ghana, marker = 'o', ci = False);"
   ]
  },
  {
   "cell_type": "code",
   "execution_count": null,
   "metadata": {},
   "outputs": [],
   "source": []
  }
 ],
 "metadata": {
  "kernelspec": {
   "display_name": "Python 3 (ipykernel)",
   "language": "python",
   "name": "python3"
  },
  "language_info": {
   "codemirror_mode": {
    "name": "ipython",
    "version": 3
   },
   "file_extension": ".py",
   "mimetype": "text/x-python",
   "name": "python",
   "nbconvert_exporter": "python",
   "pygments_lexer": "ipython3",
   "version": "3.9.13"
  }
 },
 "nbformat": 4,
 "nbformat_minor": 4
}
